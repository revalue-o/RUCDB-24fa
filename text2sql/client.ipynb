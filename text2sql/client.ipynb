{
 "cells": [
  {
   "cell_type": "code",
   "execution_count": 1,
   "metadata": {},
   "outputs": [
    {
     "name": "stdout",
     "output_type": "stream",
     "text": [
      "200\n"
     ]
    }
   ],
   "source": [
    "import requests\n",
    "\n",
    "url = \"http://10.77.40.36:9080/predict\"\n",
    "headers = {\n",
    "    \"Authorization\": \"4f484d4324b66bdbb835415c454fab772a14d126555d5a0df897b4a22c38706b\",\n",
    "    \"Content-Type\": \"application/json\",\n",
    "}\n",
    "data = {\"input_data\": \"Your input string here\"}\n",
    "\n",
    "response = requests.post(url, headers=headers, json=data)\n",
    "print(response.status_code)\n",
    "re_dict = response.json()  # dict item\n"
   ]
  },
  {
   "cell_type": "code",
   "execution_count": 4,
   "metadata": {},
   "outputs": [
    {
     "name": "stdout",
     "output_type": "stream",
     "text": [
      "\n",
      "SELECT p.name AS product_name,\n",
      "       SUM(s.quantity) AS total_quantity_sold\n",
      "FROM sales s\n",
      "JOIN products p ON s.product_id = p.product_id\n",
      "GROUP BY p.name\n",
      "ORDER BY total_quantity_sold DESC NULLS LAST\n"
     ]
    }
   ],
   "source": [
    "print(re_dict['response'])"
   ]
  }
 ],
 "metadata": {
  "kernelspec": {
   "display_name": "myenv",
   "language": "python",
   "name": "python3"
  },
  "language_info": {
   "codemirror_mode": {
    "name": "ipython",
    "version": 3
   },
   "file_extension": ".py",
   "mimetype": "text/x-python",
   "name": "python",
   "nbconvert_exporter": "python",
   "pygments_lexer": "ipython3",
   "version": "3.9.20"
  }
 },
 "nbformat": 4,
 "nbformat_minor": 2
}
